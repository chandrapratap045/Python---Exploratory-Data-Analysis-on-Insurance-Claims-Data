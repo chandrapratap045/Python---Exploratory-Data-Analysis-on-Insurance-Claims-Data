{
 "cells": [
  {
   "cell_type": "code",
   "execution_count": 50,
   "id": "30b634ef",
   "metadata": {},
   "outputs": [],
   "source": [
    "import numpy as np\n",
    "import pandas as pd\n",
    "import datetime as dt\n",
    "import matplotlib.pyplot as plt\n",
    "\n",
    "import warnings\n",
    "warnings.filterwarnings('ignore')\n",
    "\n",
    "import scipy.stats as stats"
   ]
  },
  {
   "cell_type": "code",
   "execution_count": 51,
   "id": "55653913",
   "metadata": {},
   "outputs": [
    {
     "data": {
      "text/html": [
       "<div>\n",
       "<style scoped>\n",
       "    .dataframe tbody tr th:only-of-type {\n",
       "        vertical-align: middle;\n",
       "    }\n",
       "\n",
       "    .dataframe tbody tr th {\n",
       "        vertical-align: top;\n",
       "    }\n",
       "\n",
       "    .dataframe thead th {\n",
       "        text-align: right;\n",
       "    }\n",
       "</style>\n",
       "<table border=\"1\" class=\"dataframe\">\n",
       "  <thead>\n",
       "    <tr style=\"text-align: right;\">\n",
       "      <th></th>\n",
       "      <th>CUST_ID</th>\n",
       "      <th>gender</th>\n",
       "      <th>DateOfBirth</th>\n",
       "      <th>State</th>\n",
       "      <th>Contact</th>\n",
       "      <th>Segment</th>\n",
       "      <th>claim_id</th>\n",
       "      <th>customer_id</th>\n",
       "      <th>incident_cause</th>\n",
       "      <th>claim_date</th>\n",
       "      <th>claim_area</th>\n",
       "      <th>police_report</th>\n",
       "      <th>claim_type</th>\n",
       "      <th>claim_amount</th>\n",
       "      <th>total_policy_claims</th>\n",
       "      <th>fraudulent</th>\n",
       "    </tr>\n",
       "  </thead>\n",
       "  <tbody>\n",
       "    <tr>\n",
       "      <th>0</th>\n",
       "      <td>21868593.0</td>\n",
       "      <td>Female</td>\n",
       "      <td>12-Jan-79</td>\n",
       "      <td>VT</td>\n",
       "      <td>789-916-8172</td>\n",
       "      <td>Platinum</td>\n",
       "      <td>54004764.0</td>\n",
       "      <td>21868593.0</td>\n",
       "      <td>Driver error</td>\n",
       "      <td>11/27/2017</td>\n",
       "      <td>Auto</td>\n",
       "      <td>No</td>\n",
       "      <td>Material only</td>\n",
       "      <td>$2980</td>\n",
       "      <td>1.0</td>\n",
       "      <td>No</td>\n",
       "    </tr>\n",
       "    <tr>\n",
       "      <th>1</th>\n",
       "      <td>75740424.0</td>\n",
       "      <td>Female</td>\n",
       "      <td>13-Jan-70</td>\n",
       "      <td>ME</td>\n",
       "      <td>265-543-1264</td>\n",
       "      <td>Silver</td>\n",
       "      <td>33985796.0</td>\n",
       "      <td>75740424.0</td>\n",
       "      <td>Crime</td>\n",
       "      <td>10/03/2018</td>\n",
       "      <td>Home</td>\n",
       "      <td>Unknown</td>\n",
       "      <td>Material only</td>\n",
       "      <td>$2980</td>\n",
       "      <td>3.0</td>\n",
       "      <td>No</td>\n",
       "    </tr>\n",
       "  </tbody>\n",
       "</table>\n",
       "</div>"
      ],
      "text/plain": [
       "      CUST_ID  gender DateOfBirth State       Contact   Segment    claim_id  \\\n",
       "0  21868593.0  Female   12-Jan-79    VT  789-916-8172  Platinum  54004764.0   \n",
       "1  75740424.0  Female   13-Jan-70    ME  265-543-1264    Silver  33985796.0   \n",
       "\n",
       "   customer_id incident_cause  claim_date claim_area police_report  \\\n",
       "0   21868593.0   Driver error  11/27/2017       Auto            No   \n",
       "1   75740424.0          Crime  10/03/2018       Home       Unknown   \n",
       "\n",
       "      claim_type claim_amount  total_policy_claims fraudulent  \n",
       "0  Material only        $2980                  1.0         No  \n",
       "1  Material only        $2980                  3.0         No  "
      ]
     },
     "execution_count": 51,
     "metadata": {},
     "output_type": "execute_result"
    }
   ],
   "source": [
    "file_path = 'D:/Classes/Python/Case Studies/Python Foundation Case Study 3 - Insurance Claims Case Study/'\n",
    "claims = pd.read_csv(file_path + 'claims.csv')\n",
    "demo = pd.read_csv(file_path + 'cust_demographics.csv')\n",
    "df = pd.merge(left = demo , right = claims, how = 'outer', left_on = 'CUST_ID', right_on = 'customer_id')\n",
    "df.head(2)"
   ]
  },
  {
   "cell_type": "code",
   "execution_count": 52,
   "id": "f3fbd0bd",
   "metadata": {},
   "outputs": [
    {
     "name": "stdout",
     "output_type": "stream",
     "text": [
      "<class 'pandas.core.frame.DataFrame'>\n",
      "Int64Index: 1107 entries, 0 to 1106\n",
      "Data columns (total 16 columns):\n",
      " #   Column               Non-Null Count  Dtype  \n",
      "---  ------               --------------  -----  \n",
      " 0   CUST_ID              1092 non-null   float64\n",
      " 1   gender               1092 non-null   object \n",
      " 2   DateOfBirth          1092 non-null   object \n",
      " 3   State                1092 non-null   object \n",
      " 4   Contact              1092 non-null   object \n",
      " 5   Segment              1092 non-null   object \n",
      " 6   claim_id             1100 non-null   float64\n",
      " 7   customer_id          1100 non-null   float64\n",
      " 8   incident_cause       1100 non-null   object \n",
      " 9   claim_date           1100 non-null   object \n",
      " 10  claim_area           1100 non-null   object \n",
      " 11  police_report        1100 non-null   object \n",
      " 12  claim_type           1100 non-null   object \n",
      " 13  claim_amount         1035 non-null   object \n",
      " 14  total_policy_claims  1090 non-null   float64\n",
      " 15  fraudulent           1100 non-null   object \n",
      "dtypes: float64(4), object(12)\n",
      "memory usage: 147.0+ KB\n"
     ]
    }
   ],
   "source": [
    "df.info()"
   ]
  },
  {
   "cell_type": "raw",
   "id": "60940d63",
   "metadata": {},
   "source": [
    "Ques.2) Perform a data audit for the datatypes and find out if there are any \n",
    "   mismatch within the current datatypes of the columns and their \n",
    "   business significance.\n",
    "   \n",
    "Ques.3) Convert the column claim_amount to numeric. Use the appropriate \n",
    "   modules/attributes to remove the $ sign."
   ]
  },
  {
   "cell_type": "code",
   "execution_count": 53,
   "id": "f3027277",
   "metadata": {},
   "outputs": [
    {
     "data": {
      "text/html": [
       "<div>\n",
       "<style scoped>\n",
       "    .dataframe tbody tr th:only-of-type {\n",
       "        vertical-align: middle;\n",
       "    }\n",
       "\n",
       "    .dataframe tbody tr th {\n",
       "        vertical-align: top;\n",
       "    }\n",
       "\n",
       "    .dataframe thead th {\n",
       "        text-align: right;\n",
       "    }\n",
       "</style>\n",
       "<table border=\"1\" class=\"dataframe\">\n",
       "  <thead>\n",
       "    <tr style=\"text-align: right;\">\n",
       "      <th></th>\n",
       "      <th>CUST_ID</th>\n",
       "      <th>gender</th>\n",
       "      <th>DateOfBirth</th>\n",
       "      <th>State</th>\n",
       "      <th>Contact</th>\n",
       "      <th>Segment</th>\n",
       "      <th>claim_id</th>\n",
       "      <th>customer_id</th>\n",
       "      <th>incident_cause</th>\n",
       "      <th>claim_date</th>\n",
       "      <th>claim_area</th>\n",
       "      <th>police_report</th>\n",
       "      <th>claim_type</th>\n",
       "      <th>claim_amount</th>\n",
       "      <th>total_policy_claims</th>\n",
       "      <th>fraudulent</th>\n",
       "    </tr>\n",
       "  </thead>\n",
       "  <tbody>\n",
       "    <tr>\n",
       "      <th>0</th>\n",
       "      <td>21868593.0</td>\n",
       "      <td>Female</td>\n",
       "      <td>12-Jan-79</td>\n",
       "      <td>VT</td>\n",
       "      <td>789-916-8172</td>\n",
       "      <td>Platinum</td>\n",
       "      <td>54004764.0</td>\n",
       "      <td>21868593.0</td>\n",
       "      <td>Driver error</td>\n",
       "      <td>11/27/2017</td>\n",
       "      <td>Auto</td>\n",
       "      <td>No</td>\n",
       "      <td>Material only</td>\n",
       "      <td>$2980</td>\n",
       "      <td>1.0</td>\n",
       "      <td>No</td>\n",
       "    </tr>\n",
       "    <tr>\n",
       "      <th>1</th>\n",
       "      <td>75740424.0</td>\n",
       "      <td>Female</td>\n",
       "      <td>13-Jan-70</td>\n",
       "      <td>ME</td>\n",
       "      <td>265-543-1264</td>\n",
       "      <td>Silver</td>\n",
       "      <td>33985796.0</td>\n",
       "      <td>75740424.0</td>\n",
       "      <td>Crime</td>\n",
       "      <td>10/03/2018</td>\n",
       "      <td>Home</td>\n",
       "      <td>Unknown</td>\n",
       "      <td>Material only</td>\n",
       "      <td>$2980</td>\n",
       "      <td>3.0</td>\n",
       "      <td>No</td>\n",
       "    </tr>\n",
       "  </tbody>\n",
       "</table>\n",
       "</div>"
      ],
      "text/plain": [
       "      CUST_ID  gender DateOfBirth State       Contact   Segment    claim_id  \\\n",
       "0  21868593.0  Female   12-Jan-79    VT  789-916-8172  Platinum  54004764.0   \n",
       "1  75740424.0  Female   13-Jan-70    ME  265-543-1264    Silver  33985796.0   \n",
       "\n",
       "   customer_id incident_cause  claim_date claim_area police_report  \\\n",
       "0   21868593.0   Driver error  11/27/2017       Auto            No   \n",
       "1   75740424.0          Crime  10/03/2018       Home       Unknown   \n",
       "\n",
       "      claim_type claim_amount  total_policy_claims fraudulent  \n",
       "0  Material only        $2980                  1.0         No  \n",
       "1  Material only        $2980                  3.0         No  "
      ]
     },
     "execution_count": 53,
     "metadata": {},
     "output_type": "execute_result"
    }
   ],
   "source": [
    "df.head(2)"
   ]
  },
  {
   "cell_type": "code",
   "execution_count": 54,
   "id": "077f7f69",
   "metadata": {},
   "outputs": [],
   "source": [
    "df['claim_amount'] = pd.to_numeric(df.claim_amount.str.replace('$',' '))\n",
    "df['DateOfBirth'] = pd.to_datetime(df.DateOfBirth, format = '%d-%b-%y')\n",
    "df['claim_date'] = pd.to_datetime(df.claim_date, format = '%m/%d/%Y')"
   ]
  },
  {
   "cell_type": "code",
   "execution_count": 55,
   "id": "ee3b6697",
   "metadata": {},
   "outputs": [],
   "source": [
    "df.DateOfBirth[df.DateOfBirth.dt.year > 2022] = df.DateOfBirth[df.DateOfBirth.dt.year > 2022] + pd.DateOffset(years = -100)"
   ]
  },
  {
   "cell_type": "markdown",
   "id": "90f8328e",
   "metadata": {},
   "source": [
    "### Ques.4) Of all the injury claims, some of them have gone unreported with the police. Create an alert flag (1,0) for all such claims."
   ]
  },
  {
   "cell_type": "code",
   "execution_count": 56,
   "id": "2b9512f4",
   "metadata": {},
   "outputs": [],
   "source": [
    "df['flag'] = pd.Series(np.where((df.claim_type.isin(['Injury only','Material and injury'])) & (df.police_report == 'No'), 0 ,\n",
    "        np.where((df.claim_type.isin(['Injury only','Material and injury'])) & (df.police_report == 'Yes'), 1, np.nan)))"
   ]
  },
  {
   "cell_type": "markdown",
   "id": "f0610adb",
   "metadata": {},
   "source": [
    "### Ques.5)  One customer can claim for insurance more than once and in each claim, multiple categories of claims can be involved. However, customer ID should remain unique. Retain the most recent observation and delete any duplicated records in the data based on the customer ID column."
   ]
  },
  {
   "cell_type": "code",
   "execution_count": 57,
   "id": "5088800c",
   "metadata": {},
   "outputs": [
    {
     "data": {
      "text/html": [
       "<div>\n",
       "<style scoped>\n",
       "    .dataframe tbody tr th:only-of-type {\n",
       "        vertical-align: middle;\n",
       "    }\n",
       "\n",
       "    .dataframe tbody tr th {\n",
       "        vertical-align: top;\n",
       "    }\n",
       "\n",
       "    .dataframe thead th {\n",
       "        text-align: right;\n",
       "    }\n",
       "</style>\n",
       "<table border=\"1\" class=\"dataframe\">\n",
       "  <thead>\n",
       "    <tr style=\"text-align: right;\">\n",
       "      <th></th>\n",
       "      <th>CUST_ID</th>\n",
       "      <th>gender</th>\n",
       "      <th>DateOfBirth</th>\n",
       "      <th>State</th>\n",
       "      <th>Contact</th>\n",
       "      <th>Segment</th>\n",
       "      <th>claim_id</th>\n",
       "      <th>customer_id</th>\n",
       "      <th>incident_cause</th>\n",
       "      <th>claim_date</th>\n",
       "      <th>claim_area</th>\n",
       "      <th>police_report</th>\n",
       "      <th>claim_type</th>\n",
       "      <th>claim_amount</th>\n",
       "      <th>total_policy_claims</th>\n",
       "      <th>fraudulent</th>\n",
       "      <th>flag</th>\n",
       "    </tr>\n",
       "  </thead>\n",
       "  <tbody>\n",
       "    <tr>\n",
       "      <th>0</th>\n",
       "      <td>58451506.0</td>\n",
       "      <td>Male</td>\n",
       "      <td>1968-04-22</td>\n",
       "      <td>FL</td>\n",
       "      <td>673-574-7823</td>\n",
       "      <td>Gold</td>\n",
       "      <td>43042986.0</td>\n",
       "      <td>58451506.0</td>\n",
       "      <td>Natural causes</td>\n",
       "      <td>2018-10-30</td>\n",
       "      <td>Auto</td>\n",
       "      <td>No</td>\n",
       "      <td>Material only</td>\n",
       "      <td>2420.0</td>\n",
       "      <td>1.0</td>\n",
       "      <td>No</td>\n",
       "      <td>NaN</td>\n",
       "    </tr>\n",
       "    <tr>\n",
       "      <th>1</th>\n",
       "      <td>93915431.0</td>\n",
       "      <td>Male</td>\n",
       "      <td>1967-09-08</td>\n",
       "      <td>ME</td>\n",
       "      <td>134-785-1687</td>\n",
       "      <td>Gold</td>\n",
       "      <td>99775483.0</td>\n",
       "      <td>93915431.0</td>\n",
       "      <td>Other causes</td>\n",
       "      <td>2018-10-30</td>\n",
       "      <td>Auto</td>\n",
       "      <td>No</td>\n",
       "      <td>Material and injury</td>\n",
       "      <td>42124.5</td>\n",
       "      <td>1.0</td>\n",
       "      <td>Yes</td>\n",
       "      <td>0.0</td>\n",
       "    </tr>\n",
       "    <tr>\n",
       "      <th>2</th>\n",
       "      <td>86491727.0</td>\n",
       "      <td>Female</td>\n",
       "      <td>1997-01-29</td>\n",
       "      <td>IL</td>\n",
       "      <td>294-187-3286</td>\n",
       "      <td>Gold</td>\n",
       "      <td>32178193.0</td>\n",
       "      <td>86491727.0</td>\n",
       "      <td>Driver error</td>\n",
       "      <td>2018-10-30</td>\n",
       "      <td>Home</td>\n",
       "      <td>Unknown</td>\n",
       "      <td>Material only</td>\n",
       "      <td>1860.0</td>\n",
       "      <td>1.0</td>\n",
       "      <td>No</td>\n",
       "      <td>NaN</td>\n",
       "    </tr>\n",
       "    <tr>\n",
       "      <th>3</th>\n",
       "      <td>38011078.0</td>\n",
       "      <td>Female</td>\n",
       "      <td>1976-05-20</td>\n",
       "      <td>NE</td>\n",
       "      <td>271-123-1475</td>\n",
       "      <td>Gold</td>\n",
       "      <td>98795403.0</td>\n",
       "      <td>38011078.0</td>\n",
       "      <td>Crime</td>\n",
       "      <td>2018-10-30</td>\n",
       "      <td>Auto</td>\n",
       "      <td>Unknown</td>\n",
       "      <td>Material only</td>\n",
       "      <td>1940.0</td>\n",
       "      <td>1.0</td>\n",
       "      <td>No</td>\n",
       "      <td>NaN</td>\n",
       "    </tr>\n",
       "    <tr>\n",
       "      <th>4</th>\n",
       "      <td>65208809.0</td>\n",
       "      <td>Male</td>\n",
       "      <td>1964-04-22</td>\n",
       "      <td>VA</td>\n",
       "      <td>286-128-6132</td>\n",
       "      <td>Platinum</td>\n",
       "      <td>91386759.0</td>\n",
       "      <td>65208809.0</td>\n",
       "      <td>Natural causes</td>\n",
       "      <td>2018-10-30</td>\n",
       "      <td>Auto</td>\n",
       "      <td>No</td>\n",
       "      <td>Material only</td>\n",
       "      <td>2290.0</td>\n",
       "      <td>1.0</td>\n",
       "      <td>No</td>\n",
       "      <td>NaN</td>\n",
       "    </tr>\n",
       "    <tr>\n",
       "      <th>...</th>\n",
       "      <td>...</td>\n",
       "      <td>...</td>\n",
       "      <td>...</td>\n",
       "      <td>...</td>\n",
       "      <td>...</td>\n",
       "      <td>...</td>\n",
       "      <td>...</td>\n",
       "      <td>...</td>\n",
       "      <td>...</td>\n",
       "      <td>...</td>\n",
       "      <td>...</td>\n",
       "      <td>...</td>\n",
       "      <td>...</td>\n",
       "      <td>...</td>\n",
       "      <td>...</td>\n",
       "      <td>...</td>\n",
       "      <td>...</td>\n",
       "    </tr>\n",
       "    <tr>\n",
       "      <th>1081</th>\n",
       "      <td>74888099.0</td>\n",
       "      <td>Male</td>\n",
       "      <td>1980-07-22</td>\n",
       "      <td>CO</td>\n",
       "      <td>125-613-7698</td>\n",
       "      <td>Platinum</td>\n",
       "      <td>NaN</td>\n",
       "      <td>NaN</td>\n",
       "      <td>NaN</td>\n",
       "      <td>NaT</td>\n",
       "      <td>NaN</td>\n",
       "      <td>NaN</td>\n",
       "      <td>NaN</td>\n",
       "      <td>NaN</td>\n",
       "      <td>NaN</td>\n",
       "      <td>NaN</td>\n",
       "      <td>NaN</td>\n",
       "    </tr>\n",
       "    <tr>\n",
       "      <th>1082</th>\n",
       "      <td>36009093.0</td>\n",
       "      <td>Female</td>\n",
       "      <td>1984-06-04</td>\n",
       "      <td>SC</td>\n",
       "      <td>264-374-5794</td>\n",
       "      <td>Platinum</td>\n",
       "      <td>NaN</td>\n",
       "      <td>NaN</td>\n",
       "      <td>NaN</td>\n",
       "      <td>NaT</td>\n",
       "      <td>NaN</td>\n",
       "      <td>NaN</td>\n",
       "      <td>NaN</td>\n",
       "      <td>NaN</td>\n",
       "      <td>NaN</td>\n",
       "      <td>NaN</td>\n",
       "      <td>NaN</td>\n",
       "    </tr>\n",
       "    <tr>\n",
       "      <th>1083</th>\n",
       "      <td>60016590.0</td>\n",
       "      <td>Female</td>\n",
       "      <td>1984-05-25</td>\n",
       "      <td>NV</td>\n",
       "      <td>649-742-8132</td>\n",
       "      <td>Silver</td>\n",
       "      <td>NaN</td>\n",
       "      <td>NaN</td>\n",
       "      <td>NaN</td>\n",
       "      <td>NaT</td>\n",
       "      <td>NaN</td>\n",
       "      <td>NaN</td>\n",
       "      <td>NaN</td>\n",
       "      <td>NaN</td>\n",
       "      <td>NaN</td>\n",
       "      <td>NaN</td>\n",
       "      <td>NaN</td>\n",
       "    </tr>\n",
       "    <tr>\n",
       "      <th>1084</th>\n",
       "      <td>96861647.0</td>\n",
       "      <td>Female</td>\n",
       "      <td>1996-08-06</td>\n",
       "      <td>NH</td>\n",
       "      <td>495-732-2638</td>\n",
       "      <td>Silver</td>\n",
       "      <td>NaN</td>\n",
       "      <td>NaN</td>\n",
       "      <td>NaN</td>\n",
       "      <td>NaT</td>\n",
       "      <td>NaN</td>\n",
       "      <td>NaN</td>\n",
       "      <td>NaN</td>\n",
       "      <td>NaN</td>\n",
       "      <td>NaN</td>\n",
       "      <td>NaN</td>\n",
       "      <td>NaN</td>\n",
       "    </tr>\n",
       "    <tr>\n",
       "      <th>1085</th>\n",
       "      <td>70659761.0</td>\n",
       "      <td>Male</td>\n",
       "      <td>1994-06-25</td>\n",
       "      <td>WI</td>\n",
       "      <td>928-163-5178</td>\n",
       "      <td>Platinum</td>\n",
       "      <td>NaN</td>\n",
       "      <td>NaN</td>\n",
       "      <td>NaN</td>\n",
       "      <td>NaT</td>\n",
       "      <td>NaN</td>\n",
       "      <td>NaN</td>\n",
       "      <td>NaN</td>\n",
       "      <td>NaN</td>\n",
       "      <td>NaN</td>\n",
       "      <td>NaN</td>\n",
       "      <td>NaN</td>\n",
       "    </tr>\n",
       "  </tbody>\n",
       "</table>\n",
       "<p>1086 rows × 17 columns</p>\n",
       "</div>"
      ],
      "text/plain": [
       "         CUST_ID  gender DateOfBirth State       Contact   Segment  \\\n",
       "0     58451506.0    Male  1968-04-22    FL  673-574-7823      Gold   \n",
       "1     93915431.0    Male  1967-09-08    ME  134-785-1687      Gold   \n",
       "2     86491727.0  Female  1997-01-29    IL  294-187-3286      Gold   \n",
       "3     38011078.0  Female  1976-05-20    NE  271-123-1475      Gold   \n",
       "4     65208809.0    Male  1964-04-22    VA  286-128-6132  Platinum   \n",
       "...          ...     ...         ...   ...           ...       ...   \n",
       "1081  74888099.0    Male  1980-07-22    CO  125-613-7698  Platinum   \n",
       "1082  36009093.0  Female  1984-06-04    SC  264-374-5794  Platinum   \n",
       "1083  60016590.0  Female  1984-05-25    NV  649-742-8132    Silver   \n",
       "1084  96861647.0  Female  1996-08-06    NH  495-732-2638    Silver   \n",
       "1085  70659761.0    Male  1994-06-25    WI  928-163-5178  Platinum   \n",
       "\n",
       "        claim_id  customer_id  incident_cause claim_date claim_area  \\\n",
       "0     43042986.0   58451506.0  Natural causes 2018-10-30       Auto   \n",
       "1     99775483.0   93915431.0    Other causes 2018-10-30       Auto   \n",
       "2     32178193.0   86491727.0    Driver error 2018-10-30       Home   \n",
       "3     98795403.0   38011078.0           Crime 2018-10-30       Auto   \n",
       "4     91386759.0   65208809.0  Natural causes 2018-10-30       Auto   \n",
       "...          ...          ...             ...        ...        ...   \n",
       "1081         NaN          NaN             NaN        NaT        NaN   \n",
       "1082         NaN          NaN             NaN        NaT        NaN   \n",
       "1083         NaN          NaN             NaN        NaT        NaN   \n",
       "1084         NaN          NaN             NaN        NaT        NaN   \n",
       "1085         NaN          NaN             NaN        NaT        NaN   \n",
       "\n",
       "     police_report           claim_type  claim_amount  total_policy_claims  \\\n",
       "0               No        Material only        2420.0                  1.0   \n",
       "1               No  Material and injury       42124.5                  1.0   \n",
       "2          Unknown        Material only        1860.0                  1.0   \n",
       "3          Unknown        Material only        1940.0                  1.0   \n",
       "4               No        Material only        2290.0                  1.0   \n",
       "...            ...                  ...           ...                  ...   \n",
       "1081           NaN                  NaN           NaN                  NaN   \n",
       "1082           NaN                  NaN           NaN                  NaN   \n",
       "1083           NaN                  NaN           NaN                  NaN   \n",
       "1084           NaN                  NaN           NaN                  NaN   \n",
       "1085           NaN                  NaN           NaN                  NaN   \n",
       "\n",
       "     fraudulent  flag  \n",
       "0            No   NaN  \n",
       "1           Yes   0.0  \n",
       "2            No   NaN  \n",
       "3            No   NaN  \n",
       "4            No   NaN  \n",
       "...         ...   ...  \n",
       "1081        NaN   NaN  \n",
       "1082        NaN   NaN  \n",
       "1083        NaN   NaN  \n",
       "1084        NaN   NaN  \n",
       "1085        NaN   NaN  \n",
       "\n",
       "[1086 rows x 17 columns]"
      ]
     },
     "execution_count": 57,
     "metadata": {},
     "output_type": "execute_result"
    }
   ],
   "source": [
    "df.sort_values(by = 'claim_date', ascending = False).drop_duplicates(subset = 'CUST_ID',\n",
    "                                                                     ignore_index = True)"
   ]
  },
  {
   "cell_type": "markdown",
   "id": "f22ab66a",
   "metadata": {},
   "source": [
    "### Ques.6) Check for missing values and impute the missing values with an appropriate value. (mean for continuous and mode for categorical)"
   ]
  },
  {
   "cell_type": "code",
   "execution_count": 58,
   "id": "41ba3a6e",
   "metadata": {},
   "outputs": [],
   "source": [
    "con_variables = 'claim_amount'\n",
    "cat_variables = ['gender','State','Segment','incident_cause','claim_area','claim_type','fraudulent','total_policy_claims']"
   ]
  },
  {
   "cell_type": "code",
   "execution_count": 59,
   "id": "3b22bab1",
   "metadata": {},
   "outputs": [],
   "source": [
    "df.loc[:,con_variables].fillna(round(df.loc[:,con_variables].mean(),2), inplace = True)\n",
    "df.loc[:,cat_variables] = df.loc[:,cat_variables].apply(lambda x : x.fillna(x.mode()[0]))"
   ]
  },
  {
   "cell_type": "code",
   "execution_count": 60,
   "id": "c30285b0",
   "metadata": {},
   "outputs": [
    {
     "data": {
      "text/plain": [
       "0"
      ]
     },
     "execution_count": 60,
     "metadata": {},
     "output_type": "execute_result"
    }
   ],
   "source": [
    "df.gender.isna().sum()"
   ]
  },
  {
   "cell_type": "markdown",
   "id": "5e85f8ae",
   "metadata": {},
   "source": [
    "### Ques.7) Calculate the age of customers in years. Based on the age, categorize the customers according to the below criteria :\n",
    "        Children < 18\n",
    "        Youth 18-30\n",
    "        Adult 30-60\n",
    "        Senior > 60"
   ]
  },
  {
   "cell_type": "code",
   "execution_count": 61,
   "id": "9706070b",
   "metadata": {},
   "outputs": [],
   "source": [
    "df.loc[:,'age_in_years'] = pd.Timestamp.today().year - df.DateOfBirth.dt.year"
   ]
  },
  {
   "cell_type": "code",
   "execution_count": 62,
   "id": "baa829ed",
   "metadata": {},
   "outputs": [],
   "source": [
    "df['Age_Group'] = pd.Series(np.where(df.age_in_years < 18, 'Children', np.where(df.age_in_years <= 30, 'Youth',\n",
    "                                                    np.where(df.age_in_years <= 60, 'Adult',\n",
    "                                                             np.where(df.age_in_years > 60, 'Senior', np.NaN)))))"
   ]
  },
  {
   "cell_type": "markdown",
   "id": "6c5cf3c6",
   "metadata": {},
   "source": [
    "### Ques.8) What is the average amount claimed by the customers from various segments?"
   ]
  },
  {
   "cell_type": "code",
   "execution_count": 63,
   "id": "ad74e354",
   "metadata": {},
   "outputs": [
    {
     "data": {
      "text/plain": [
       "Segment\n",
       "Gold        12745.668772\n",
       "Platinum    12341.725589\n",
       "Silver      12208.394672\n",
       "Name: claim_amount, dtype: float64"
      ]
     },
     "execution_count": 63,
     "metadata": {},
     "output_type": "execute_result"
    }
   ],
   "source": [
    "df.groupby(by = 'Segment').claim_amount.mean()"
   ]
  },
  {
   "cell_type": "markdown",
   "id": "f7f56f97",
   "metadata": {},
   "source": [
    "### Ques.9) What is the total claim amount based on incident cause for all the claims that have been done at least 20 days prior to 1st of October, 2018."
   ]
  },
  {
   "cell_type": "code",
   "execution_count": 64,
   "id": "972d1665",
   "metadata": {},
   "outputs": [
    {
     "data": {
      "text/plain": [
       "incident_cause\n",
       "Crime                  729472.65\n",
       "Driver error          3348655.56\n",
       "Natural causes        1316440.67\n",
       "Other causes          3779869.47\n",
       "Other driver error    3384045.19\n",
       "Name: claim_amount, dtype: float64"
      ]
     },
     "execution_count": 64,
     "metadata": {},
     "output_type": "execute_result"
    }
   ],
   "source": [
    "df.loc[df.claim_date <= pd.to_datetime('2018-09-10')].groupby('incident_cause').claim_amount.sum()"
   ]
  },
  {
   "cell_type": "markdown",
   "id": "0bf6aec6",
   "metadata": {},
   "source": [
    "### Ques.10) How many adults from TX, DE and AK claimed insurance for driver related issues and causes?"
   ]
  },
  {
   "cell_type": "code",
   "execution_count": 65,
   "id": "88fd6d0c",
   "metadata": {},
   "outputs": [],
   "source": [
    "df2 = df.loc[(df.Age_Group == 'Adult')\n",
    "             & (df.State.isin(['TX','DE','AK']))\n",
    "             & (df.incident_cause.isin(['Driver error','Other driver error']))]"
   ]
  },
  {
   "cell_type": "code",
   "execution_count": 66,
   "id": "880c01b7",
   "metadata": {},
   "outputs": [
    {
     "data": {
      "text/html": [
       "<div>\n",
       "<style scoped>\n",
       "    .dataframe tbody tr th:only-of-type {\n",
       "        vertical-align: middle;\n",
       "    }\n",
       "\n",
       "    .dataframe tbody tr th {\n",
       "        vertical-align: top;\n",
       "    }\n",
       "\n",
       "    .dataframe thead th {\n",
       "        text-align: right;\n",
       "    }\n",
       "</style>\n",
       "<table border=\"1\" class=\"dataframe\">\n",
       "  <thead>\n",
       "    <tr style=\"text-align: right;\">\n",
       "      <th>incident_cause</th>\n",
       "      <th>Driver error</th>\n",
       "      <th>Other driver error</th>\n",
       "    </tr>\n",
       "    <tr>\n",
       "      <th>State</th>\n",
       "      <th></th>\n",
       "      <th></th>\n",
       "    </tr>\n",
       "  </thead>\n",
       "  <tbody>\n",
       "    <tr>\n",
       "      <th>AK</th>\n",
       "      <td>6</td>\n",
       "      <td>3</td>\n",
       "    </tr>\n",
       "    <tr>\n",
       "      <th>DE</th>\n",
       "      <td>7</td>\n",
       "      <td>3</td>\n",
       "    </tr>\n",
       "    <tr>\n",
       "      <th>TX</th>\n",
       "      <td>5</td>\n",
       "      <td>4</td>\n",
       "    </tr>\n",
       "  </tbody>\n",
       "</table>\n",
       "</div>"
      ],
      "text/plain": [
       "incident_cause  Driver error  Other driver error\n",
       "State                                           \n",
       "AK                         6                   3\n",
       "DE                         7                   3\n",
       "TX                         5                   4"
      ]
     },
     "execution_count": 66,
     "metadata": {},
     "output_type": "execute_result"
    }
   ],
   "source": [
    "pd.crosstab(index = df2.State, columns = df2.incident_cause)"
   ]
  },
  {
   "cell_type": "markdown",
   "id": "58e1eaa7",
   "metadata": {},
   "source": [
    "### Ques.11) Draw a pie chart between the aggregated value of claim amount based on gender and segment. Represent the claim amount as a percentage on the pie chart."
   ]
  },
  {
   "cell_type": "code",
   "execution_count": 67,
   "id": "2f3be179",
   "metadata": {},
   "outputs": [
    {
     "data": {
      "text/html": [
       "<div>\n",
       "<style scoped>\n",
       "    .dataframe tbody tr th:only-of-type {\n",
       "        vertical-align: middle;\n",
       "    }\n",
       "\n",
       "    .dataframe tbody tr th {\n",
       "        vertical-align: top;\n",
       "    }\n",
       "\n",
       "    .dataframe thead th {\n",
       "        text-align: right;\n",
       "    }\n",
       "</style>\n",
       "<table border=\"1\" class=\"dataframe\">\n",
       "  <thead>\n",
       "    <tr style=\"text-align: right;\">\n",
       "      <th>Segment</th>\n",
       "      <th>Gold</th>\n",
       "      <th>Platinum</th>\n",
       "      <th>Silver</th>\n",
       "    </tr>\n",
       "    <tr>\n",
       "      <th>gender</th>\n",
       "      <th></th>\n",
       "      <th></th>\n",
       "      <th></th>\n",
       "    </tr>\n",
       "  </thead>\n",
       "  <tbody>\n",
       "    <tr>\n",
       "      <th>Female</th>\n",
       "      <td>2121950.30</td>\n",
       "      <td>2381747.04</td>\n",
       "      <td>1938906.08</td>\n",
       "    </tr>\n",
       "    <tr>\n",
       "      <th>Male</th>\n",
       "      <td>2861606.19</td>\n",
       "      <td>2122982.80</td>\n",
       "      <td>2346240.45</td>\n",
       "    </tr>\n",
       "  </tbody>\n",
       "</table>\n",
       "</div>"
      ],
      "text/plain": [
       "Segment        Gold    Platinum      Silver\n",
       "gender                                     \n",
       "Female   2121950.30  2381747.04  1938906.08\n",
       "Male     2861606.19  2122982.80  2346240.45"
      ]
     },
     "execution_count": 67,
     "metadata": {},
     "output_type": "execute_result"
    }
   ],
   "source": [
    "df.pivot_table(index = 'gender' , columns = 'Segment',\n",
    "               aggfunc = 'sum', values = 'claim_amount')"
   ]
  },
  {
   "cell_type": "code",
   "execution_count": 68,
   "id": "270d3b96",
   "metadata": {
    "scrolled": true
   },
   "outputs": [
    {
     "data": {
      "image/png": "[encoded data removed]",
      "text/plain": [
       "<Figure size 1008x576 with 3 Axes>"
      ]
     },
     "metadata": {},
     "output_type": "display_data"
    }
   ],
   "source": [
    "df.pivot_table(index = 'gender' , columns = 'Segment',\n",
    "               aggfunc = 'sum', values = 'claim_amount').plot(kind = 'pie', subplots = True,\n",
    "                                                              legend = False, figsize = (14,8), autopct = '%1.1f%%')\n",
    "plt.show()"
   ]
  },
  {
   "cell_type": "markdown",
   "id": "72391c9c",
   "metadata": {},
   "source": [
    "### Ques.12) Among males and females, which gender had claimed the most for any type of driver related issues? E.g. This metric can be compared using a bar chart"
   ]
  },
  {
   "cell_type": "code",
   "execution_count": 69,
   "id": "0afda54d",
   "metadata": {},
   "outputs": [
    {
     "data": {
      "image/png": "[encoded data removed]",
      "text/plain": [
       "<Figure size 432x288 with 1 Axes>"
      ]
     },
     "metadata": {
      "needs_background": "light"
     },
     "output_type": "display_data"
    }
   ],
   "source": [
    "df.loc[df.incident_cause.str.lower().str.contains('driver')].groupby('gender').claim_id.count().plot(kind = 'bar',\n",
    "                                                                                                    xlabel = 'gender',\n",
    "                                                                                                    ylabel = 'count_of_claims')\n",
    "plt.show()"
   ]
  },
  {
   "cell_type": "markdown",
   "id": "61dccfdd",
   "metadata": {},
   "source": [
    "### Ques.13) Which age group had the maximum fraudulent policy claims? Visualize it on a bar chart."
   ]
  },
  {
   "cell_type": "code",
   "execution_count": 70,
   "id": "410cf4d6",
   "metadata": {},
   "outputs": [
    {
     "data": {
      "image/png": "[encoded data removed]",
      "text/plain": [
       "<Figure size 432x288 with 1 Axes>"
      ]
     },
     "metadata": {
      "needs_background": "light"
     },
     "output_type": "display_data"
    }
   ],
   "source": [
    "df.loc[df.fraudulent == 'Yes'].groupby('Age_Group').claim_id.count().plot(kind = 'bar')\n",
    "plt.show()"
   ]
  },
  {
   "cell_type": "markdown",
   "id": "2ca3baac",
   "metadata": {},
   "source": [
    "### Ques.14) Visualize the monthly trend of the total amount that has been claimed by the customers. Ensure that on the “month”  axis, the month is in a chronological order not alphabetical order."
   ]
  },
  {
   "cell_type": "code",
   "execution_count": 71,
   "id": "d02c2e43",
   "metadata": {},
   "outputs": [
    {
     "data": {
      "image/png": "[encoded data removed]",
      "text/plain": [
       "<Figure size 1152x504 with 1 Axes>"
      ]
     },
     "metadata": {
      "needs_background": "light"
     },
     "output_type": "display_data"
    }
   ],
   "source": [
    "plt.figure(figsize = (16,7))\n",
    "df.groupby([df.claim_date.dt.year, df.claim_date.dt.month]).claim_amount.sum().plot(kind = 'bar')\n",
    "plt.xlabel('Claim Month')\n",
    "plt.ylabel('Claim Amount')\n",
    "plt.show()"
   ]
  },
  {
   "cell_type": "markdown",
   "id": "fd16a516",
   "metadata": {},
   "source": [
    "### Ques.15) What is the average claim amount for gender and age categories and suitably represent the above using a facetted bar chart, one facet that represents fraudulent claims and the other for non-fraudulent claims."
   ]
  },
  {
   "cell_type": "code",
   "execution_count": 72,
   "id": "90f33cd6",
   "metadata": {},
   "outputs": [
    {
     "data": {
      "image/png": "[encoded data removed]",
      "text/plain": [
       "<Figure size 1008x576 with 2 Axes>"
      ]
     },
     "metadata": {
      "needs_background": "light"
     },
     "output_type": "display_data"
    }
   ],
   "source": [
    "df.pivot_table(values = 'claim_amount', index = ['gender','Age_Group'], columns = 'fraudulent',\n",
    "                       aggfunc = 'mean').add_prefix(\"fraudulent_\").plot(kind = 'bar', subplots = True,\n",
    "                                                                       legend = False, figsize = (14,8),\n",
    "                                                                        ylabel = 'Avg_Claim_Amt', xlabel = 'Gender , Age_Group')\n",
    "plt.show()"
   ]
  },
  {
   "cell_type": "markdown",
   "id": "3cb4b921",
   "metadata": {},
   "source": [
    "### Ques.16) Is there any similarity in the amount claimed by males and females?"
   ]
  },
  {
   "cell_type": "code",
   "execution_count": 73,
   "id": "821a3acd",
   "metadata": {},
   "outputs": [
    {
     "name": "stdout",
     "output_type": "stream",
     "text": [
      "males_mean : 12793.768656195456 | females_mean : 12064.800411985014\n"
     ]
    }
   ],
   "source": [
    "# declare the variables\n",
    "males = df.loc[df.gender == 'Male', 'claim_amount']\n",
    "females = df.loc[df.gender == 'Female','claim_amount']\n",
    "\n",
    "# display the mean\n",
    "print('males_mean :',males.mean(),'| females_mean :',females.mean())"
   ]
  },
  {
   "cell_type": "code",
   "execution_count": 74,
   "id": "cabcea56",
   "metadata": {},
   "outputs": [
    {
     "data": {
      "text/plain": [
       "Ttest_indResult(statistic=0.9104294598170931, pvalue=0.36279461659966594)"
      ]
     },
     "execution_count": 74,
     "metadata": {},
     "output_type": "execute_result"
    }
   ],
   "source": [
    "# Ho : u1 = u2\n",
    "# Ha : u1 <> u2\n",
    "\n",
    "# CI : 95% , P-value : 0.05\n",
    "\n",
    "# Rejection Rule : if the p-value from the statistical test comes out to be less than 0.05; we will reject the null hypothesis.\n",
    "\n",
    "# Perform the test:\n",
    "stats.ttest_ind(males, females)\n",
    "\n",
    "# statistical conclusion : At CI = 95% , we can reject the null hypothesis.\n",
    "\n",
    "# Business Conclusion : Amount Claimed by Males and Females customers are different from each other."
   ]
  },
  {
   "cell_type": "markdown",
   "id": "0f462121",
   "metadata": {},
   "source": [
    "### Ques.17) Is there any relationship between age category and segment?"
   ]
  },
  {
   "cell_type": "code",
   "execution_count": 75,
   "id": "c47b1111",
   "metadata": {},
   "outputs": [
    {
     "data": {
      "text/html": [
       "<div>\n",
       "<style scoped>\n",
       "    .dataframe tbody tr th:only-of-type {\n",
       "        vertical-align: middle;\n",
       "    }\n",
       "\n",
       "    .dataframe tbody tr th {\n",
       "        vertical-align: top;\n",
       "    }\n",
       "\n",
       "    .dataframe thead th {\n",
       "        text-align: right;\n",
       "    }\n",
       "</style>\n",
       "<table border=\"1\" class=\"dataframe\">\n",
       "  <thead>\n",
       "    <tr style=\"text-align: right;\">\n",
       "      <th>Segment</th>\n",
       "      <th>Gold</th>\n",
       "      <th>Platinum</th>\n",
       "      <th>Silver</th>\n",
       "    </tr>\n",
       "    <tr>\n",
       "      <th>Age_Group</th>\n",
       "      <th></th>\n",
       "      <th></th>\n",
       "      <th></th>\n",
       "    </tr>\n",
       "  </thead>\n",
       "  <tbody>\n",
       "    <tr>\n",
       "      <th>Adult</th>\n",
       "      <td>287</td>\n",
       "      <td>268</td>\n",
       "      <td>255</td>\n",
       "    </tr>\n",
       "    <tr>\n",
       "      <th>Senior</th>\n",
       "      <td>15</td>\n",
       "      <td>17</td>\n",
       "      <td>17</td>\n",
       "    </tr>\n",
       "    <tr>\n",
       "      <th>Youth</th>\n",
       "      <td>74</td>\n",
       "      <td>80</td>\n",
       "      <td>79</td>\n",
       "    </tr>\n",
       "    <tr>\n",
       "      <th>nan</th>\n",
       "      <td>15</td>\n",
       "      <td>0</td>\n",
       "      <td>0</td>\n",
       "    </tr>\n",
       "  </tbody>\n",
       "</table>\n",
       "</div>"
      ],
      "text/plain": [
       "Segment    Gold  Platinum  Silver\n",
       "Age_Group                        \n",
       "Adult       287       268     255\n",
       "Senior       15        17      17\n",
       "Youth        74        80      79\n",
       "nan          15         0       0"
      ]
     },
     "execution_count": 75,
     "metadata": {},
     "output_type": "execute_result"
    }
   ],
   "source": [
    "# Get the observed frequency table from the dataset\n",
    "obs_freq = pd.crosstab(index = df.Age_Group, columns = df.Segment)\n",
    "obs_freq"
   ]
  },
  {
   "cell_type": "code",
   "execution_count": 76,
   "id": "47c7561c",
   "metadata": {},
   "outputs": [
    {
     "data": {
      "text/plain": [
       "(29.299442691206607,\n",
       " 5.338997590196803e-05,\n",
       " 6,\n",
       " array([[286.09756098, 267.07317073, 256.82926829],\n",
       "        [ 17.3071364 ,  16.15627823,  15.53658537],\n",
       "        [ 82.29719964,  76.82475158,  73.87804878],\n",
       "        [  5.29810298,   4.94579946,   4.75609756]]))"
      ]
     },
     "execution_count": 76,
     "metadata": {},
     "output_type": "execute_result"
    }
   ],
   "source": [
    "# Ho : No Relationship / Association\n",
    "# Ha : Association\n",
    "\n",
    "# CI : 95% , P-value : 0.05\n",
    "\n",
    "# Rejection Rule : if the p-value from the statistical test comes out to be less than 0.05; we will reject the null hypothesis.\n",
    "\n",
    "# perform the test:\n",
    "stats.chi2_contingency(obs_freq)\n",
    "\n",
    "# Statistical Conclusion : At CI = 95% , we can reject the null hypothesis.\n",
    "# Business Conclusion : we have customers of different Age_Group belongs to different Segments."
   ]
  },
  {
   "cell_type": "markdown",
   "id": "d8fbc340",
   "metadata": {},
   "source": [
    "### Ques.18) The current year has shown a significant rise in claim amounts as compared to 2016-17 fiscal average which was $10,000"
   ]
  },
  {
   "cell_type": "code",
   "execution_count": 77,
   "id": "14664cb0",
   "metadata": {},
   "outputs": [
    {
     "name": "stdout",
     "output_type": "stream",
     "text": [
      "pop_mean : 10000 | mean_sample : 12638.007935222666\n"
     ]
    }
   ],
   "source": [
    "# mean values to be compared\n",
    "pop_mean = 10000\n",
    "mean_sample = df.loc[df.claim_date.dt.year == 2018,'claim_amount'].mean()\n",
    "\n",
    "# display the means\n",
    "print('pop_mean :',pop_mean,'| mean_sample :',mean_sample)"
   ]
  },
  {
   "cell_type": "code",
   "execution_count": 78,
   "id": "c5ed833c",
   "metadata": {},
   "outputs": [
    {
     "data": {
      "text/plain": [
       "Ttest_1sampResult(statistic=4.3597076598467375, pvalue=1.5862341530431562e-05)"
      ]
     },
     "execution_count": 78,
     "metadata": {},
     "output_type": "execute_result"
    }
   ],
   "source": [
    "# Ho : u <= 10000\n",
    "# Ha : u > 10000\n",
    "\n",
    "# CI : 95% , P-value : 0.05\n",
    "\n",
    "# Rejection Rule : if the p-value from the statistical test comes out to be less than 0.05; we will reject the null hypothesis.\n",
    "\n",
    "# perform the test\n",
    "sample = df.loc[df.claim_date.dt.year == 2018,'claim_amount']\n",
    "stats.ttest_1samp(a = sample, popmean = pop_mean)\n",
    "\n",
    "# Business Conclusion : Claim_Amount of current year has increased from the last year (2016-2017)"
   ]
  },
  {
   "cell_type": "markdown",
   "id": "b149b794",
   "metadata": {},
   "source": [
    "### Ques.19) Is there any difference between age groups and insurance claims?"
   ]
  },
  {
   "cell_type": "code",
   "execution_count": 79,
   "id": "f5b4ab3e",
   "metadata": {},
   "outputs": [
    {
     "name": "stdout",
     "output_type": "stream",
     "text": [
      "Avg amount claimed by Adult : 12555.932395061736\n",
      "Avg amount claimed by Youth : 12056.025622317591\n",
      "Avg amount claimed by Senior : 12928.758163265307\n"
     ]
    }
   ],
   "source": [
    "# Declare the variables\n",
    "Adult_cust = df.loc[df.Age_Group == 'Adult','claim_amount']\n",
    "Youth_cust = df.loc[df.Age_Group == 'Youth','claim_amount']\n",
    "Senior_cust = df.loc[df.Age_Group == 'Senior','claim_amount']\n",
    "\n",
    "# display the means\n",
    "print('Avg amount claimed by Adult :',Adult_cust.mean())\n",
    "print('Avg amount claimed by Youth :',Youth_cust.mean())\n",
    "print('Avg amount claimed by Senior :',Senior_cust.mean())"
   ]
  },
  {
   "cell_type": "code",
   "execution_count": 80,
   "id": "3f26244c",
   "metadata": {},
   "outputs": [
    {
     "data": {
      "text/plain": [
       "F_onewayResult(statistic=0.1581372804090484, pvalue=0.8537521744004772)"
      ]
     },
     "execution_count": 80,
     "metadata": {},
     "output_type": "execute_result"
    }
   ],
   "source": [
    "# Ho : All the samples are from same population (m1 = m2 = m3)\n",
    "# Ha : All the samples are from different population\n",
    "\n",
    "# CI : 95% , P-value : 0.05\n",
    "\n",
    "# Rejection Rule : if the p-value from the statistical test comes out to be less than 0.05; we will reject the null hypothesis.\n",
    "\n",
    "# Perform the test :\n",
    "stats.f_oneway(Adult_cust, Youth_cust, Senior_cust)\n",
    "\n",
    "# Statistical Conclusion : fail to reject the null hypothesis\n",
    "# Business Conclusion : Insurance_Claim amounts of Adult, Youth and Senior are almost similar to each other"
   ]
  },
  {
   "cell_type": "markdown",
   "id": "04c247f5",
   "metadata": {},
   "source": [
    "### Ques.20) Is there any relationship between total number of policy claims and the claimed amount?"
   ]
  },
  {
   "cell_type": "code",
   "execution_count": 81,
   "id": "5e33e07c",
   "metadata": {},
   "outputs": [
    {
     "data": {
      "text/plain": [
       "<AxesSubplot:xlabel='total_policy_claims', ylabel='claim_amount'>"
      ]
     },
     "execution_count": 81,
     "metadata": {},
     "output_type": "execute_result"
    },
    {
     "data": {
      "image/png": "[encoded data removed]",
      "text/plain": [
       "<Figure size 432x288 with 1 Axes>"
      ]
     },
     "metadata": {
      "needs_background": "light"
     },
     "output_type": "display_data"
    }
   ],
   "source": [
    "df.plot(kind = 'scatter', x = 'total_policy_claims', y = 'claim_amount')"
   ]
  },
  {
   "cell_type": "code",
   "execution_count": 82,
   "id": "eb85c556",
   "metadata": {},
   "outputs": [
    {
     "data": {
      "text/html": [
       "<div>\n",
       "<style scoped>\n",
       "    .dataframe tbody tr th:only-of-type {\n",
       "        vertical-align: middle;\n",
       "    }\n",
       "\n",
       "    .dataframe tbody tr th {\n",
       "        vertical-align: top;\n",
       "    }\n",
       "\n",
       "    .dataframe thead th {\n",
       "        text-align: right;\n",
       "    }\n",
       "</style>\n",
       "<table border=\"1\" class=\"dataframe\">\n",
       "  <thead>\n",
       "    <tr style=\"text-align: right;\">\n",
       "      <th></th>\n",
       "      <th>total_policy_claims</th>\n",
       "      <th>claim_amount</th>\n",
       "    </tr>\n",
       "  </thead>\n",
       "  <tbody>\n",
       "    <tr>\n",
       "      <th>total_policy_claims</th>\n",
       "      <td>1.000000</td>\n",
       "      <td>-0.019981</td>\n",
       "    </tr>\n",
       "    <tr>\n",
       "      <th>claim_amount</th>\n",
       "      <td>-0.019981</td>\n",
       "      <td>1.000000</td>\n",
       "    </tr>\n",
       "  </tbody>\n",
       "</table>\n",
       "</div>"
      ],
      "text/plain": [
       "                     total_policy_claims  claim_amount\n",
       "total_policy_claims             1.000000     -0.019981\n",
       "claim_amount                   -0.019981      1.000000"
      ]
     },
     "execution_count": 82,
     "metadata": {},
     "output_type": "execute_result"
    }
   ],
   "source": [
    "df.loc[:,['total_policy_claims','claim_amount']].corr()          # No Relationship"
   ]
  },
  {
   "cell_type": "code",
   "execution_count": 83,
   "id": "735a830b",
   "metadata": {},
   "outputs": [
    {
     "data": {
      "text/plain": [
       "SpearmanrResult(correlation=0.0026365065886759043, pvalue=0.9301772224005503)"
      ]
     },
     "execution_count": 83,
     "metadata": {},
     "output_type": "execute_result"
    }
   ],
   "source": [
    "# Ho : No Relationship\n",
    "# Ha : Association / Relationship\n",
    "\n",
    "# CI : 95%, P-value : 0.05\n",
    "\n",
    "# Rejection Rule : if the p-value from the statistical test comes out to be less than 0.05; we will reject the null hypothesis.\n",
    "\n",
    "# Perform the Test:\n",
    "stats.spearmanr(a = df.total_policy_claims, b = df.claim_amount)\n",
    "\n",
    "# Statistics Conclusion: We fail to reject the Null Hypothesis, There is no Relationship between total_policy_claims \n",
    "                        # and claim_amount\n",
    "\n",
    "# Business Conclusion: total_policy_claims doesn't affect claim_amount. They are not dependent on each other"
   ]
  }
 ],
 "metadata": {
  "kernelspec": {
   "display_name": "Python 3",
   "language": "python",
   "name": "python3"
  },
  "language_info": {
   "codemirror_mode": {
    "name": "ipython",
    "version": 3
   },
   "file_extension": ".py",
   "mimetype": "text/x-python",
   "name": "python",
   "nbconvert_exporter": "python",
   "pygments_lexer": "ipython3",
   "version": "3.8.8"
  }
 },
 "nbformat": 4,
 "nbformat_minor": 5
}
